{
  "cells": [
    {
      "cell_type": "markdown",
      "metadata": {
        "id": "MT3xXLB_37ir"
      },
      "source": [
        "#Comments in Python"
      ]
    },
    {
      "cell_type": "code",
      "execution_count": 13,
      "metadata": {
        "colab": {
          "base_uri": "https://localhost:8080/"
        },
        "id": "oP87nJo64DCK",
        "outputId": "1b26353f-b3e3-4703-d95d-11c23468c020"
      },
      "outputs": [
        {
          "name": "stdout",
          "output_type": "stream",
          "text": [
            " Comment statement can not run or executeable\n"
          ]
        }
      ],
      "source": [
        "#print(this is a comment)\n",
        "print(\" Comment statement can not run or executeable\")"
      ]
    },
    {
      "cell_type": "markdown",
      "metadata": {
        "id": "7-jNJhA94KKA"
      },
      "source": [
        "#Input & Output"
      ]
    },
    {
      "cell_type": "code",
      "execution_count": 14,
      "metadata": {
        "colab": {
          "base_uri": "https://localhost:8080/"
        },
        "id": "WaaT8u3k4IXw",
        "outputId": "02ead708-a28a-4c80-bd60-934b743b46a3"
      },
      "outputs": [
        {
          "name": "stdout",
          "output_type": "stream",
          "text": [
            "abdulrehman\n"
          ]
        }
      ],
      "source": [
        "text = input(\"plz enter your name\")\n",
        "print(text)"
      ]
    },
    {
      "cell_type": "markdown",
      "metadata": {
        "id": "dCjgK7PO4hYE"
      },
      "source": [
        "#Multiple statements on a single line"
      ]
    },
    {
      "cell_type": "code",
      "execution_count": 15,
      "metadata": {
        "colab": {
          "base_uri": "https://localhost:8080/"
        },
        "id": "BzhKnxWV4nEn",
        "outputId": "46487ba2-f393-4d84-f2f7-d4ae1b03dde2"
      },
      "outputs": [
        {
          "name": "stdout",
          "output_type": "stream",
          "text": [
            "abdulrehman\n",
            "abbas\n",
            "ali\n"
          ]
        }
      ],
      "source": [
        "print(\"abdulrehman\");print(\"abbas\");print(\"ali\")"
      ]
    },
    {
      "cell_type": "markdown",
      "metadata": {
        "id": "9tSY7oqk40dr"
      },
      "source": [
        "#Indentation"
      ]
    },
    {
      "cell_type": "code",
      "execution_count": 76,
      "metadata": {
        "id": "vg0CE7j94vmS"
      },
      "outputs": [
        {
          "name": "stdout",
          "output_type": "stream",
          "text": [
            "0\n"
          ]
        }
      ],
      "source": [
        "\n",
        "'''\n",
        "x==0\n",
        "x = \"my name is abdulrehman abbas\"\n",
        "if x == 0\n",
        "print(x)\n",
        "'''\n",
        "\n",
        "x=0\n",
        "if x == 0:\n",
        " print(x)\n"
      ]
    },
    {
      "cell_type": "markdown",
      "metadata": {
        "id": "2-yE6WeY5SmH"
      },
      "source": [
        "#Use of Single and Tab Indentation"
      ]
    },
    {
      "cell_type": "code",
      "execution_count": 77,
      "metadata": {
        "colab": {
          "base_uri": "https://localhost:8080/"
        },
        "id": "fauY1l3r4-77",
        "outputId": "5deb5b07-46f1-44f1-d264-f17e8378d6cb"
      },
      "outputs": [
        {
          "name": "stdout",
          "output_type": "stream",
          "text": [
            "we use FOUR SPACES for indentation\n"
          ]
        }
      ],
      "source": [
        "x=1\n",
        "if x>0:\n",
        "    print(\"we use FOUR SPACES for indentation\")\n",
        "if x<0:\n",
        "  print(\"we use a TAB for our indentation\")"
      ]
    },
    {
      "cell_type": "markdown",
      "metadata": {
        "id": "vXhP2hjy6MZO"
      },
      "source": [
        "#Type Checking"
      ]
    },
    {
      "cell_type": "code",
      "execution_count": 78,
      "metadata": {
        "colab": {
          "base_uri": "https://localhost:8080/"
        },
        "id": "8aZHXeuy6V3s",
        "outputId": "21041cc6-be11-44ca-f111-a6747697e93e"
      },
      "outputs": [
        {
          "name": "stdout",
          "output_type": "stream",
          "text": [
            "<class 'float'>\n"
          ]
        }
      ],
      "source": [
        "#use type function\n",
        "x = 9.00\n",
        "print(type(x))"
      ]
    },
    {
      "cell_type": "code",
      "execution_count": 79,
      "metadata": {
        "colab": {
          "base_uri": "https://localhost:8080/"
        },
        "id": "i9ANxibR6dwd",
        "outputId": "62bfcef6-94b9-4f7d-f237-efb4ab31210a"
      },
      "outputs": [
        {
          "name": "stdout",
          "output_type": "stream",
          "text": [
            "<class 'int'>\n"
          ]
        }
      ],
      "source": [
        "x = 9\n",
        "print(type(x))\n"
      ]
    },
    {
      "cell_type": "code",
      "execution_count": 80,
      "metadata": {
        "colab": {
          "base_uri": "https://localhost:8080/"
        },
        "id": "F2zdr6YJ6jI2",
        "outputId": "8c44e816-916a-453b-f095-0c83fb29a952"
      },
      "outputs": [
        {
          "name": "stdout",
          "output_type": "stream",
          "text": [
            "<class 'str'>\n"
          ]
        }
      ],
      "source": [
        "x = \"sharif\"\n",
        "print(type(x))"
      ]
    },
    {
      "cell_type": "code",
      "execution_count": 81,
      "metadata": {
        "colab": {
          "base_uri": "https://localhost:8080/"
        },
        "id": "T4Im8mvh6j_4",
        "outputId": "54d576ab-e129-4e43-c4cc-20b60132f5b1"
      },
      "outputs": [
        {
          "name": "stdout",
          "output_type": "stream",
          "text": [
            "<class 'str'>\n"
          ]
        }
      ],
      "source": [
        "x = str(9.00)\n",
        "print(type(x))"
      ]
    },
    {
      "cell_type": "code",
      "execution_count": 82,
      "metadata": {
        "colab": {
          "base_uri": "https://localhost:8080/"
        },
        "id": "tq6pPY1A6kdN",
        "outputId": "4a91e84d-f690-45aa-ae55-4014ad32c655"
      },
      "outputs": [
        {
          "name": "stdout",
          "output_type": "stream",
          "text": [
            "<class 'bool'>\n"
          ]
        }
      ],
      "source": [
        "#Boolean Class\n",
        "x = False\n",
        "print(type(x))"
      ]
    },
    {
      "cell_type": "markdown",
      "metadata": {
        "id": "GLK9qvfz6x32"
      },
      "source": [
        "#Special Chrachters in Python String"
      ]
    },
    {
      "cell_type": "code",
      "execution_count": 92,
      "metadata": {
        "colab": {
          "base_uri": "https://localhost:8080/"
        },
        "id": "xTo--AYB69ej",
        "outputId": "32e14ec2-210f-4946-c76d-9f697ba077fb"
      },
      "outputs": [
        {
          "name": "stdout",
          "output_type": "stream",
          "text": [
            "Abdulrehman s/o Abbas  (\\)  s/o Rehmat ali\n",
            "Abdulrehman s/o Abbas  \t  s/o Rehmat ali\n"
          ]
        }
      ],
      "source": [
        "print(\"Abdulrehman s/o Abbas  (\\\\)  s/o Rehmat ali\")\n",
        "print(\"Abdulrehman s/o Abbas  \\t  s/o Rehmat ali\")\n"
      ]
    },
    {
      "cell_type": "markdown",
      "metadata": {
        "id": "tCNtSomv7rt1"
      },
      "source": [
        "#List slicing  & indices"
      ]
    },
    {
      "cell_type": "code",
      "execution_count": 95,
      "metadata": {
        "colab": {
          "base_uri": "https://localhost:8080/"
        },
        "id": "si-zgnO67-4a",
        "outputId": "a15401b5-976f-4e15-f904-218a7771b4e0"
      },
      "outputs": [
        {
          "name": "stdout",
          "output_type": "stream",
          "text": [
            "['Rehan', 'Ahmad', 'Hashim', 'Umer']\n",
            "Haroon\n",
            "['Ahmad', 'Hashim', 'Umer', 'Huzaifa', 'Haroon']\n",
            "['Abdulrehman', 'Rehan', 'Ahmad', 'Hashim', 'Umer']\n",
            "['Rehan', 'Hashim']\n",
            "['Abdulrehman', 'Ahmad', 'Umer', 'Haroon']\n",
            "['Haroon', 'Huzaifa', 'Umer', 'Hashim', 'Ahmad', 'Rehan', 'Abdulrehman']\n",
            "['Haroon', 'Huzaifa', 'Umer', 'Hashim', 'Ahmad', 'Rehan', 'Abdulrehman']\n",
            "['Haroon', 'Huzaifa', 'Umer', 'Hashim', 'Ahmad']\n",
            "['Rehan', 'Ahmad', 'Hashim', 'Umer', 'Huzaifa']\n",
            "['Ahmad', 'Hashim', 'Umer']\n"
          ]
        }
      ],
      "source": [
        "list = [\"Abdulrehman\",\"Rehan\",\"Ahmad\",\"Hashim\",\"Umer\",\"Huzaifa\",\"Haroon\"]\n",
        "print(list[1:5])\n",
        "print(list[-1])\n",
        "print(list[2:])\n",
        "print(list[:5])\n",
        "print(list[1:5:2])\n",
        "print(list[::2])\n",
        "print(list[::-1])\n",
        "print(list[-1::-1])\n",
        "print(list[-1:-6:-1])\n",
        "print(list[-6:-1])\n",
        "print(list[2:5])"
      ]
    },
    {
      "cell_type": "code",
      "execution_count": 96,
      "metadata": {
        "id": "5ox1zSH88-2L"
      },
      "outputs": [],
      "source": [
        "#MOVE ONTO NEXT LAB (SECOND)"
      ]
    }
  ],
  "metadata": {
    "colab": {
      "provenance": [],
      "toc_visible": true
    },
    "kernelspec": {
      "display_name": "Python 3",
      "name": "python3"
    },
    "language_info": {
      "codemirror_mode": {
        "name": "ipython",
        "version": 3
      },
      "file_extension": ".py",
      "mimetype": "text/x-python",
      "name": "python",
      "nbconvert_exporter": "python",
      "pygments_lexer": "ipython3",
      "version": "3.12.4"
    }
  },
  "nbformat": 4,
  "nbformat_minor": 0
}
